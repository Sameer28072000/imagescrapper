{
 "cells": [
  {
   "cell_type": "markdown",
   "id": "18c441f2-2b6c-473c-a159-8cc33cbf30a1",
   "metadata": {},
   "source": [
    "Q1. Write a python program to extract the video URL of the first five videos."
   ]
  },
  {
   "cell_type": "code",
   "execution_count": 4,
   "id": "07520ada-fcff-4c74-af3f-99d4cb7561b3",
   "metadata": {},
   "outputs": [],
   "source": [
    "import requests\n",
    "from bs4 import BeautifulSoup\n",
    "\n",
    "def extract_video_urls(url, num_videos):\n",
    "    response = requests.get(url)\n",
    "    soup = BeautifulSoup(response.text, 'html.parser')\n",
    "\n",
    "    video_urls = []\n",
    "    video_elements = soup.find_all('a', attrs={'class': 'video-link'})\n",
    "\n",
    "    for i, video_element in enumerate(video_elements):\n",
    "        if i >= num_videos:\n",
    "            break\n",
    "        video_url = video_element['href']\n",
    "        video_urls.append(video_url)\n",
    "\n",
    "    return video_urls\n",
    "\n",
    "url = 'https://www.youtube.com/@PW-Foundation/videos' \n",
    "num_videos = 5\n",
    "\n",
    "video_urls = extract_video_urls(url, num_videos)\n",
    "for video_url in video_urls:\n",
    "    print(video_url)"
   ]
  },
  {
   "cell_type": "markdown",
   "id": "e0820a21-81df-422b-9f66-c0cded7ef167",
   "metadata": {},
   "source": [
    "Q2. Write a python program to extract the URL of the video thumbnails of the first five videos."
   ]
  },
  {
   "cell_type": "code",
   "execution_count": 5,
   "id": "e56362aa-a22e-439e-bb98-bd69afd47767",
   "metadata": {},
   "outputs": [],
   "source": [
    "import requests\n",
    "from bs4 import BeautifulSoup\n",
    "\n",
    "def extract_thumbnail_urls(url, num_videos):\n",
    "    response = requests.get(url)\n",
    "    soup = BeautifulSoup(response.text, 'html.parser')\n",
    "\n",
    "    thumbnail_urls = []\n",
    "    thumbnail_elements = soup.find_all('img', attrs={'class': 'thumbnail'})\n",
    "\n",
    "    for i, thumbnail_element in enumerate(thumbnail_elements):\n",
    "        if i >= num_videos:\n",
    "            break\n",
    "        thumbnail_url = thumbnail_element['src']\n",
    "        thumbnail_urls.append(thumbnail_url)\n",
    "\n",
    "    return thumbnail_urls\n",
    "\n",
    "url ='https://www.youtube.com/@PW-Foundation/videos' \n",
    "num_videos = 5\n",
    "\n",
    "thumbnail_urls = extract_thumbnail_urls(url, num_videos)\n",
    "for thumbnail_url in thumbnail_urls:\n",
    "    print(thumbnail_url)"
   ]
  },
  {
   "cell_type": "markdown",
   "id": "9044e40c-5cde-41e3-8287-b3e36c638a3f",
   "metadata": {},
   "source": [
    "Q3. Write a python program to extract the title of the first five videos."
   ]
  },
  {
   "cell_type": "code",
   "execution_count": 6,
   "id": "e4f4ffa4-c3e7-4a41-91f6-4272db265668",
   "metadata": {},
   "outputs": [],
   "source": [
    "import requests\n",
    "from bs4 import BeautifulSoup\n",
    "\n",
    "def extract_video_titles(url, num_videos):\n",
    "    response = requests.get(url)\n",
    "    soup = BeautifulSoup(response.text, 'html.parser')\n",
    "\n",
    "    video_titles = []\n",
    "    title_elements = soup.find_all('h2', attrs={'class': 'video-title'})\n",
    "\n",
    "    for i, title_element in enumerate(title_elements):\n",
    "        if i >= num_videos:\n",
    "            break\n",
    "        video_title = title_element.text.strip()\n",
    "        video_titles.append(video_title)\n",
    "\n",
    "    return video_titles\n",
    "\n",
    "url = 'https://www.youtube.com/@PW-Foundation/videos' \n",
    "num_videos = 5\n",
    "\n",
    "video_titles = extract_video_titles(url, num_videos)\n",
    "for video_title in video_titles:\n",
    "    print(video_title)"
   ]
  },
  {
   "cell_type": "markdown",
   "id": "375d866f-6a07-48e7-afe6-eeaf85be0dc6",
   "metadata": {},
   "source": [
    "Q4. Write a python program to extract the number of views of the first five videos."
   ]
  },
  {
   "cell_type": "code",
   "execution_count": 7,
   "id": "92f53f93-3957-4c89-97aa-1d4fe83a19c8",
   "metadata": {},
   "outputs": [],
   "source": [
    "import requests\n",
    "from bs4 import BeautifulSoup\n",
    "\n",
    "def extract_view_counts(url, num_videos):\n",
    "    response = requests.get(url)\n",
    "    soup = BeautifulSoup(response.text, 'html.parser')\n",
    "\n",
    "    view_counts = []\n",
    "    count_elements = soup.find_all('span', attrs={'class': 'view-count'})\n",
    "\n",
    "    for i, count_element in enumerate(count_elements):\n",
    "        if i >= num_videos:\n",
    "            break\n",
    "        view_count = count_element.text.strip()\n",
    "        view_counts.append(view_count)\n",
    "\n",
    "    return view_counts\n",
    "\n",
    "url = 'https://www.youtube.com/@PW-Foundation/videos' \n",
    "num_videos = 5\n",
    "\n",
    "view_counts = extract_view_counts(url, num_videos)\n",
    "for view_count in view_counts:\n",
    "    print(view_count)"
   ]
  },
  {
   "cell_type": "markdown",
   "id": "2ad467f2-a432-4e92-81f3-f544224e5716",
   "metadata": {},
   "source": [
    "Q5. Write a python program to extract the time of posting of video for the first five videos."
   ]
  },
  {
   "cell_type": "code",
   "execution_count": 8,
   "id": "8dd48045-01ee-43d8-97c0-e59161b62280",
   "metadata": {},
   "outputs": [],
   "source": [
    "import requests\n",
    "from bs4 import BeautifulSoup\n",
    "\n",
    "def extract_posting_times(url, num_videos):\n",
    "    response = requests.get(url)\n",
    "    soup = BeautifulSoup(response.text, 'html.parser')\n",
    "\n",
    "    posting_times = []\n",
    "    time_elements = soup.find_all('span', attrs={'class': 'posting-time'})\n",
    "\n",
    "    for i, time_element in enumerate(time_elements):\n",
    "        if i >= num_videos:\n",
    "            break\n",
    "        posting_time = time_element.text.strip()\n",
    "        posting_times.append(posting_time)\n",
    "\n",
    "    return posting_times\n",
    "\n",
    "url = 'https://www.youtube.com/@PW-Foundation/videos' \n",
    "num_videos = 5\n",
    "\n",
    "posting_times = extract_posting_times(url, num_videos)\n",
    "for posting_time in posting_times:\n",
    "    print(posting_time)"
   ]
  },
  {
   "cell_type": "code",
   "execution_count": null,
   "id": "b6ce5f64-ca26-4bb8-afd0-8b60cd3472de",
   "metadata": {},
   "outputs": [],
   "source": []
  }
 ],
 "metadata": {
  "kernelspec": {
   "display_name": "Python 3 (ipykernel)",
   "language": "python",
   "name": "python3"
  },
  "language_info": {
   "codemirror_mode": {
    "name": "ipython",
    "version": 3
   },
   "file_extension": ".py",
   "mimetype": "text/x-python",
   "name": "python",
   "nbconvert_exporter": "python",
   "pygments_lexer": "ipython3",
   "version": "3.10.8"
  }
 },
 "nbformat": 4,
 "nbformat_minor": 5
}
